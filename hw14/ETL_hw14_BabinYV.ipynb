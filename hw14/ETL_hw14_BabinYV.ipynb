{
  "nbformat": 4,
  "nbformat_minor": 0,
  "metadata": {
    "colab": {
      "provenance": []
    },
    "kernelspec": {
      "name": "python3",
      "display_name": "Python 3"
    },
    "language_info": {
      "name": "python"
    }
  },
  "cells": [
    {
      "cell_type": "code",
      "source": [
        "import numpy as np\n",
        "import pandas as pd"
      ],
      "metadata": {
        "id": "5lCdEf7RRBzK"
      },
      "execution_count": 3,
      "outputs": []
    },
    {
      "cell_type": "code",
      "source": [
        "pd.options.display.float_format = \"{:,.4f}\".format"
      ],
      "metadata": {
        "id": "xQ9prL8vRSOc"
      },
      "execution_count": 4,
      "outputs": []
    },
    {
      "cell_type": "code",
      "execution_count": 5,
      "metadata": {
        "id": "K-SB3rOVPWvI",
        "colab": {
          "base_uri": "https://localhost:8080/"
        },
        "outputId": "1c88c35a-1fb9-4cb3-a526-c5a95fa6d38c"
      },
      "outputs": [
        {
          "output_type": "stream",
          "name": "stdout",
          "text": [
            "<class 'numpy.ndarray'>\n"
          ]
        }
      ],
      "source": [
        "__version__ = \"1.01\"\n",
        "import numpy as np\n",
        "\n",
        "def _psi(expected: np.ndarray, actual: np.ndarray, bucket_type: str = \"bins\", n_bins: int = 10) -> float:\n",
        "    \"\"\"Calculate PSI metric for two arrays.\n",
        "\n",
        "    Parameters\n",
        "    ----------\n",
        "        expected : list-like\n",
        "            Array of expected values\n",
        "        actual : list-like\n",
        "            Array of actual values\n",
        "        bucket_type : str\n",
        "            Binning strategy. Accepts two options: 'bins' and 'quantiles'. Defaults to 'bins'.\n",
        "            'bins': input arrays are splitted into bins with equal\n",
        "                and fixed steps based on 'expected' array\n",
        "            'quantiles': input arrays are binned according to 'expected' array\n",
        "                with given number of n_bins\n",
        "        n_bins : int\n",
        "            Number of buckets for binning. Defaults to 10.\n",
        "\n",
        "    Returns\n",
        "    -------\n",
        "        A single float number\n",
        "    \"\"\"\n",
        "    breakpoints = np.arange(0, n_bins + 1) / (n_bins) * 100\n",
        "    if bucket_type == \"bins\":\n",
        "        breakpoints = np.histogram(expected, n_bins)[1]\n",
        "    elif bucket_type == \"quantiles\":\n",
        "        breakpoints = np.percentile(expected, breakpoints)\n",
        "\n",
        "    # Calculate frequencies\n",
        "    expected_percents = np.histogram(expected, breakpoints)[0] / len(expected)\n",
        "    actual_percents = np.histogram(actual, breakpoints)[0] / len(actual)\n",
        "    # Clip freaquencies to avoid zero division\n",
        "    expected_percents = np.clip(expected_percents, a_min=0.0001, a_max=None)\n",
        "    actual_percents = np.clip(actual_percents, a_min=0.0001, a_max=None)\n",
        "    # Calculate PSI\n",
        "    psi_value = (expected_percents - actual_percents) * np.log(expected_percents / actual_percents)\n",
        "    psi_value = sum(psi_value)\n",
        "\n",
        "    return psi_value\n",
        "\n",
        "\n",
        "def calculate_psi(\n",
        "        expected: np.ndarray, actual: np.ndarray, bucket_type: str = \"bins\", n_bins: int = 10, axis: int = 0\n",
        ") -> np.ndarray:\n",
        "    \"\"\"Apply PSI calculation to 2 1-d or 2-d arrays.\n",
        "\n",
        "    Parameters\n",
        "    ----------\n",
        "    expected : list-like\n",
        "        Array of expected values\n",
        "    actual : list-like\n",
        "        Array of actual values\n",
        "    bucket_type : str\n",
        "        Binning strategy. Accepts two options: 'bins' and 'quantiles'. Defaults to 'bins'.\n",
        "            'bins' - input arrays are splitted into bins with equal\n",
        "                and fixed steps based on ’expected' array\n",
        "            'quantiles' - input arrays are binned according to ’expected’ array\n",
        "                with given number of n_bins\n",
        "    n_bins : int\n",
        "        Number of buckets for binning. Defaults to 10.\n",
        "\n",
        "    Returns\n",
        "    -------\n",
        "        np.ndarray\n",
        "    \"\"\"\n",
        "    if len(expected.shape) == 1:\n",
        "        psi_values = np.empty(len(expected.shape))\n",
        "    else:\n",
        "        psi_values = np.empty(expected.shape[axis])\n",
        "\n",
        "    for i in range(0, len(psi_values)):\n",
        "        if len(psi_values) == 1:\n",
        "            psi_values = _psi(expected, actual, bucket_type, n_bins)\n",
        "        elif axis == 0:\n",
        "            psi_values[i] = _psi(expected[:, i], actual[:, i], bucket_type, n_bins)\n",
        "        elif axis == 1:\n",
        "            psi_values[i] = _psi(expected[i, :], actual[i, :], bucket_type, n_bins)\n",
        "        return np.array(psi_values)\n",
        "\n",
        "if __name__ == \"__main__\":\n",
        "    np.random.seed(44)\n",
        "    SAMPLE_SIZE = 100\n",
        "    data_control = -np.random.normal(1, 1, SAMPLE_SIZE)\n",
        "    data_pilot = -np.random.normal(1.2, 1, SAMPLE_SIZE)\n",
        "    a = calculate_psi(data_control, data_pilot, bucket_type=\"bins\", n_bins=10, axis=0)\n",
        "    print(type(a))\n",
        "    assert (\n",
        "               calculate_psi(data_control, data_pilot, bucket_type=\"bins\", n_bins=10, axis=0) == 0.2315847887596773\n",
        "    ), \"The PSI value is incorrect\"\n",
        "    assert (\n",
        "               _psi(data_control, data_pilot, bucket_type=\"bins\", n_bins=10) == 0.2315847887596773\n",
        "    ), \"The PSI value is incorrect\""
      ]
    },
    {
      "cell_type": "code",
      "source": [
        "df = pd.read_csv(\"Customer_Flight_Activity.csv\")"
      ],
      "metadata": {
        "id": "d2yZaEhsR493"
      },
      "execution_count": 6,
      "outputs": []
    },
    {
      "cell_type": "code",
      "source": [
        "df_expected = df[df[\"Year\"]==2017][\"Total Flights\"]"
      ],
      "metadata": {
        "id": "KHEG5vWKSOJ5"
      },
      "execution_count": 10,
      "outputs": []
    },
    {
      "cell_type": "code",
      "source": [
        "df_expected.describe()"
      ],
      "metadata": {
        "colab": {
          "base_uri": "https://localhost:8080/",
          "height": 335
        },
        "id": "yp3eS8G4S2-B",
        "outputId": "8b0cd34b-4d1a-4bc7-b64c-aec95686bc01"
      },
      "execution_count": 11,
      "outputs": [
        {
          "output_type": "execute_result",
          "data": {
            "text/plain": [
              "count   191,100.0000\n",
              "mean          1.1683\n",
              "std           1.6295\n",
              "min           0.0000\n",
              "25%           0.0000\n",
              "50%           0.0000\n",
              "75%           2.0000\n",
              "max           7.0000\n",
              "Name: Total Flights, dtype: float64"
            ],
            "text/html": [
              "<div>\n",
              "<style scoped>\n",
              "    .dataframe tbody tr th:only-of-type {\n",
              "        vertical-align: middle;\n",
              "    }\n",
              "\n",
              "    .dataframe tbody tr th {\n",
              "        vertical-align: top;\n",
              "    }\n",
              "\n",
              "    .dataframe thead th {\n",
              "        text-align: right;\n",
              "    }\n",
              "</style>\n",
              "<table border=\"1\" class=\"dataframe\">\n",
              "  <thead>\n",
              "    <tr style=\"text-align: right;\">\n",
              "      <th></th>\n",
              "      <th>Total Flights</th>\n",
              "    </tr>\n",
              "  </thead>\n",
              "  <tbody>\n",
              "    <tr>\n",
              "      <th>count</th>\n",
              "      <td>191,100.0000</td>\n",
              "    </tr>\n",
              "    <tr>\n",
              "      <th>mean</th>\n",
              "      <td>1.1683</td>\n",
              "    </tr>\n",
              "    <tr>\n",
              "      <th>std</th>\n",
              "      <td>1.6295</td>\n",
              "    </tr>\n",
              "    <tr>\n",
              "      <th>min</th>\n",
              "      <td>0.0000</td>\n",
              "    </tr>\n",
              "    <tr>\n",
              "      <th>25%</th>\n",
              "      <td>0.0000</td>\n",
              "    </tr>\n",
              "    <tr>\n",
              "      <th>50%</th>\n",
              "      <td>0.0000</td>\n",
              "    </tr>\n",
              "    <tr>\n",
              "      <th>75%</th>\n",
              "      <td>2.0000</td>\n",
              "    </tr>\n",
              "    <tr>\n",
              "      <th>max</th>\n",
              "      <td>7.0000</td>\n",
              "    </tr>\n",
              "  </tbody>\n",
              "</table>\n",
              "</div><br><label><b>dtype:</b> float64</label>"
            ]
          },
          "metadata": {},
          "execution_count": 11
        }
      ]
    },
    {
      "cell_type": "code",
      "source": [
        "df_actual = df[df[\"Year\"]==2018][\"Total Flights\"]"
      ],
      "metadata": {
        "id": "uaiW3v-DS8B7"
      },
      "execution_count": 12,
      "outputs": []
    },
    {
      "cell_type": "code",
      "source": [
        "print(len(df_expected), len(df_actual))"
      ],
      "metadata": {
        "colab": {
          "base_uri": "https://localhost:8080/"
        },
        "id": "gU7CxPbSTLIr",
        "outputId": "ba478012-02ac-4645-fe2c-aea89f7cf7ca"
      },
      "execution_count": 13,
      "outputs": [
        {
          "output_type": "stream",
          "name": "stdout",
          "text": [
            "191100 201836\n"
          ]
        }
      ]
    },
    {
      "cell_type": "code",
      "source": [
        "calculate_psi(df_expected, df_actual, bucket_type=\"bins\", n_bins=100, axis=0)"
      ],
      "metadata": {
        "colab": {
          "base_uri": "https://localhost:8080/"
        },
        "id": "TrmmFU6OTbOL",
        "outputId": "1e8da947-1070-40e8-dc3b-5c3543bb05da"
      },
      "execution_count": 15,
      "outputs": [
        {
          "output_type": "execute_result",
          "data": {
            "text/plain": [
              "array(0.01204838)"
            ]
          },
          "metadata": {},
          "execution_count": 15
        }
      ]
    },
    {
      "cell_type": "code",
      "source": [
        "calculate_psi(df_expected, df_expected, bucket_type=\"bins\", n_bins=100, axis=0)"
      ],
      "metadata": {
        "colab": {
          "base_uri": "https://localhost:8080/"
        },
        "id": "VKi885v6UE1e",
        "outputId": "6f57f847-97fa-4c8c-b682-1fb361a20087"
      },
      "execution_count": 16,
      "outputs": [
        {
          "output_type": "execute_result",
          "data": {
            "text/plain": [
              "array(0.)"
            ]
          },
          "metadata": {},
          "execution_count": 16
        }
      ]
    }
  ]
}